{
 "cells": [
  {
   "cell_type": "markdown",
   "id": "5c8e7365",
   "metadata": {},
   "source": [
    "### 1. Analyze the Data"
   ]
  },
  {
   "cell_type": "markdown",
   "id": "76f2463a",
   "metadata": {},
   "source": [
    "#### Import Libraries"
   ]
  },
  {
   "cell_type": "code",
   "execution_count": 1,
   "id": "db51a2c0",
   "metadata": {},
   "outputs": [],
   "source": [
    "import pandas as pd\n",
    "import yfinance as yf\n",
    "import statsmodels.api as sm"
   ]
  },
  {
   "cell_type": "markdown",
   "id": "c4240845",
   "metadata": {},
   "source": [
    "#### Data Preprocessing"
   ]
  },
  {
   "cell_type": "code",
   "execution_count": 2,
   "id": "a75f4176",
   "metadata": {},
   "outputs": [],
   "source": [
    "data = pd.read_csv('Downloads/MSFT.csv')"
   ]
  },
  {
   "cell_type": "code",
   "execution_count": 3,
   "id": "f4e57412",
   "metadata": {},
   "outputs": [],
   "source": [
    "df = data['Adj Close'].pct_change()*100"
   ]
  },
  {
   "cell_type": "code",
   "execution_count": 4,
   "id": "72d6756a",
   "metadata": {},
   "outputs": [],
   "source": [
    "df = df.rename('Today')"
   ]
  },
  {
   "cell_type": "code",
   "execution_count": 5,
   "id": "f2444358",
   "metadata": {},
   "outputs": [],
   "source": [
    "df.index = pd.to_datetime(data['Date'])"
   ]
  },
  {
   "cell_type": "code",
   "execution_count": 6,
   "id": "bc8e8da1",
   "metadata": {},
   "outputs": [],
   "source": [
    "df = df.reset_index()"
   ]
  },
  {
   "cell_type": "code",
   "execution_count": 7,
   "id": "153a43b7",
   "metadata": {},
   "outputs": [
    {
     "data": {
      "text/html": [
       "<div>\n",
       "<style scoped>\n",
       "    .dataframe tbody tr th:only-of-type {\n",
       "        vertical-align: middle;\n",
       "    }\n",
       "\n",
       "    .dataframe tbody tr th {\n",
       "        vertical-align: top;\n",
       "    }\n",
       "\n",
       "    .dataframe thead th {\n",
       "        text-align: right;\n",
       "    }\n",
       "</style>\n",
       "<table border=\"1\" class=\"dataframe\">\n",
       "  <thead>\n",
       "    <tr style=\"text-align: right;\">\n",
       "      <th></th>\n",
       "      <th>Date</th>\n",
       "      <th>Today</th>\n",
       "    </tr>\n",
       "  </thead>\n",
       "  <tbody>\n",
       "    <tr>\n",
       "      <th>0</th>\n",
       "      <td>2017-05-19</td>\n",
       "      <td>NaN</td>\n",
       "    </tr>\n",
       "    <tr>\n",
       "      <th>1</th>\n",
       "      <td>2017-05-22</td>\n",
       "      <td>1.122731</td>\n",
       "    </tr>\n",
       "    <tr>\n",
       "      <th>2</th>\n",
       "      <td>2017-05-23</td>\n",
       "      <td>0.336016</td>\n",
       "    </tr>\n",
       "    <tr>\n",
       "      <th>3</th>\n",
       "      <td>2017-05-24</td>\n",
       "      <td>0.131042</td>\n",
       "    </tr>\n",
       "    <tr>\n",
       "      <th>4</th>\n",
       "      <td>2017-05-25</td>\n",
       "      <td>1.236007</td>\n",
       "    </tr>\n",
       "    <tr>\n",
       "      <th>...</th>\n",
       "      <td>...</td>\n",
       "      <td>...</td>\n",
       "    </tr>\n",
       "    <tr>\n",
       "      <th>1254</th>\n",
       "      <td>2022-05-12</td>\n",
       "      <td>-1.995771</td>\n",
       "    </tr>\n",
       "    <tr>\n",
       "      <th>1255</th>\n",
       "      <td>2022-05-13</td>\n",
       "      <td>2.259639</td>\n",
       "    </tr>\n",
       "    <tr>\n",
       "      <th>1256</th>\n",
       "      <td>2022-05-16</td>\n",
       "      <td>0.145529</td>\n",
       "    </tr>\n",
       "    <tr>\n",
       "      <th>1257</th>\n",
       "      <td>2022-05-17</td>\n",
       "      <td>2.034420</td>\n",
       "    </tr>\n",
       "    <tr>\n",
       "      <th>1258</th>\n",
       "      <td>2022-05-18</td>\n",
       "      <td>-3.672895</td>\n",
       "    </tr>\n",
       "  </tbody>\n",
       "</table>\n",
       "<p>1259 rows × 2 columns</p>\n",
       "</div>"
      ],
      "text/plain": [
       "           Date     Today\n",
       "0    2017-05-19       NaN\n",
       "1    2017-05-22  1.122731\n",
       "2    2017-05-23  0.336016\n",
       "3    2017-05-24  0.131042\n",
       "4    2017-05-25  1.236007\n",
       "...         ...       ...\n",
       "1254 2022-05-12 -1.995771\n",
       "1255 2022-05-13  2.259639\n",
       "1256 2022-05-16  0.145529\n",
       "1257 2022-05-17  2.034420\n",
       "1258 2022-05-18 -3.672895\n",
       "\n",
       "[1259 rows x 2 columns]"
      ]
     },
     "execution_count": 7,
     "metadata": {},
     "output_type": "execute_result"
    }
   ],
   "source": [
    "df"
   ]
  },
  {
   "cell_type": "code",
   "execution_count": 8,
   "id": "c0b29e79",
   "metadata": {},
   "outputs": [],
   "source": [
    "for i in range (1,6):\n",
    "    df['Lag '+str(i)]=df['Today'].shift(i)"
   ]
  },
  {
   "cell_type": "code",
   "execution_count": 13,
   "id": "e4bd464d",
   "metadata": {},
   "outputs": [],
   "source": [
    "df = df.dropna()"
   ]
  },
  {
   "cell_type": "code",
   "execution_count": 15,
   "id": "e90a7712",
   "metadata": {},
   "outputs": [
    {
     "name": "stderr",
     "output_type": "stream",
     "text": [
      "C:\\Users\\zaida\\AppData\\Local\\Temp/ipykernel_17308/1458074494.py:1: SettingWithCopyWarning: \n",
      "A value is trying to be set on a copy of a slice from a DataFrame.\n",
      "Try using .loc[row_indexer,col_indexer] = value instead\n",
      "\n",
      "See the caveats in the documentation: https://pandas.pydata.org/pandas-docs/stable/user_guide/indexing.html#returning-a-view-versus-a-copy\n",
      "  df['Direction'] = [1 if i>0 else 0 for i in df['Today']]\n"
     ]
    }
   ],
   "source": [
    "df['Direction'] = [1 if i>0 else 0 for i in df['Today']]"
   ]
  },
  {
   "cell_type": "code",
   "execution_count": 17,
   "id": "75af2735",
   "metadata": {},
   "outputs": [
    {
     "name": "stderr",
     "output_type": "stream",
     "text": [
      "C:\\Users\\zaida\\anaconda3\\lib\\site-packages\\statsmodels\\tsa\\tsatools.py:142: FutureWarning: In a future version of pandas all arguments of concat except for the argument 'objs' will be keyword-only\n",
      "  x = pd.concat(x[::order], 1)\n"
     ]
    }
   ],
   "source": [
    "df = sm.add_constant(df)"
   ]
  },
  {
   "cell_type": "code",
   "execution_count": 35,
   "id": "d46b3d1f",
   "metadata": {
    "scrolled": true
   },
   "outputs": [
    {
     "data": {
      "text/html": [
       "<div>\n",
       "<style scoped>\n",
       "    .dataframe tbody tr th:only-of-type {\n",
       "        vertical-align: middle;\n",
       "    }\n",
       "\n",
       "    .dataframe tbody tr th {\n",
       "        vertical-align: top;\n",
       "    }\n",
       "\n",
       "    .dataframe thead th {\n",
       "        text-align: right;\n",
       "    }\n",
       "</style>\n",
       "<table border=\"1\" class=\"dataframe\">\n",
       "  <thead>\n",
       "    <tr style=\"text-align: right;\">\n",
       "      <th></th>\n",
       "      <th>const</th>\n",
       "      <th>Date</th>\n",
       "      <th>Today</th>\n",
       "      <th>Lag 1</th>\n",
       "      <th>Lag 2</th>\n",
       "      <th>Lag 3</th>\n",
       "      <th>Lag 4</th>\n",
       "      <th>Lag 5</th>\n",
       "      <th>Direction</th>\n",
       "    </tr>\n",
       "  </thead>\n",
       "  <tbody>\n",
       "    <tr>\n",
       "      <th>6</th>\n",
       "      <td>1.0</td>\n",
       "      <td>2017-05-30</td>\n",
       "      <td>0.643228</td>\n",
       "      <td>0.488381</td>\n",
       "      <td>1.236007</td>\n",
       "      <td>0.131042</td>\n",
       "      <td>0.336016</td>\n",
       "      <td>1.122731</td>\n",
       "      <td>1</td>\n",
       "    </tr>\n",
       "    <tr>\n",
       "      <th>7</th>\n",
       "      <td>1.0</td>\n",
       "      <td>2017-05-31</td>\n",
       "      <td>-0.809563</td>\n",
       "      <td>0.643228</td>\n",
       "      <td>0.488381</td>\n",
       "      <td>1.236007</td>\n",
       "      <td>0.131042</td>\n",
       "      <td>0.336016</td>\n",
       "      <td>0</td>\n",
       "    </tr>\n",
       "    <tr>\n",
       "      <th>8</th>\n",
       "      <td>1.0</td>\n",
       "      <td>2017-06-01</td>\n",
       "      <td>0.372288</td>\n",
       "      <td>-0.809563</td>\n",
       "      <td>0.643228</td>\n",
       "      <td>0.488381</td>\n",
       "      <td>1.236007</td>\n",
       "      <td>0.131042</td>\n",
       "      <td>1</td>\n",
       "    </tr>\n",
       "    <tr>\n",
       "      <th>9</th>\n",
       "      <td>1.0</td>\n",
       "      <td>2017-06-02</td>\n",
       "      <td>2.368064</td>\n",
       "      <td>0.372288</td>\n",
       "      <td>-0.809563</td>\n",
       "      <td>0.643228</td>\n",
       "      <td>0.488381</td>\n",
       "      <td>1.236007</td>\n",
       "      <td>1</td>\n",
       "    </tr>\n",
       "    <tr>\n",
       "      <th>10</th>\n",
       "      <td>1.0</td>\n",
       "      <td>2017-06-05</td>\n",
       "      <td>0.724597</td>\n",
       "      <td>2.368064</td>\n",
       "      <td>0.372288</td>\n",
       "      <td>-0.809563</td>\n",
       "      <td>0.643228</td>\n",
       "      <td>0.488381</td>\n",
       "      <td>1</td>\n",
       "    </tr>\n",
       "  </tbody>\n",
       "</table>\n",
       "</div>"
      ],
      "text/plain": [
       "    const       Date     Today     Lag 1     Lag 2     Lag 3     Lag 4  \\\n",
       "6     1.0 2017-05-30  0.643228  0.488381  1.236007  0.131042  0.336016   \n",
       "7     1.0 2017-05-31 -0.809563  0.643228  0.488381  1.236007  0.131042   \n",
       "8     1.0 2017-06-01  0.372288 -0.809563  0.643228  0.488381  1.236007   \n",
       "9     1.0 2017-06-02  2.368064  0.372288 -0.809563  0.643228  0.488381   \n",
       "10    1.0 2017-06-05  0.724597  2.368064  0.372288 -0.809563  0.643228   \n",
       "\n",
       "       Lag 5  Direction  \n",
       "6   1.122731          1  \n",
       "7   0.336016          0  \n",
       "8   0.131042          1  \n",
       "9   1.236007          1  \n",
       "10  0.488381          1  "
      ]
     },
     "execution_count": 35,
     "metadata": {},
     "output_type": "execute_result"
    }
   ],
   "source": [
    "df.head()"
   ]
  },
  {
   "cell_type": "markdown",
   "id": "105e5c39",
   "metadata": {},
   "source": [
    "### 2. Train the Model"
   ]
  },
  {
   "cell_type": "markdown",
   "id": "9057a579",
   "metadata": {},
   "source": [
    "Use Lags and the volume to predict the direction"
   ]
  },
  {
   "cell_type": "code",
   "execution_count": 19,
   "id": "8398788d",
   "metadata": {},
   "outputs": [],
   "source": [
    "x = df[['const','Lag 1','Lag 2','Lag 3','Lag 4','Lag 5']]\n",
    "#x = df[['const','Today','Volume']]"
   ]
  },
  {
   "cell_type": "code",
   "execution_count": 20,
   "id": "4e266b15",
   "metadata": {},
   "outputs": [],
   "source": [
    "y = df.Direction"
   ]
  },
  {
   "cell_type": "code",
   "execution_count": 21,
   "id": "2fdfce01",
   "metadata": {},
   "outputs": [],
   "source": [
    "model = sm.Logit(y,x)"
   ]
  },
  {
   "cell_type": "code",
   "execution_count": 22,
   "id": "7a06d834",
   "metadata": {},
   "outputs": [
    {
     "name": "stdout",
     "output_type": "stream",
     "text": [
      "Optimization terminated successfully.\n",
      "         Current function value: 0.680884\n",
      "         Iterations 4\n"
     ]
    }
   ],
   "source": [
    "result = model.fit()"
   ]
  },
  {
   "cell_type": "code",
   "execution_count": 23,
   "id": "535fbe79",
   "metadata": {},
   "outputs": [
    {
     "data": {
      "text/html": [
       "<table class=\"simpletable\">\n",
       "<caption>Logit Regression Results</caption>\n",
       "<tr>\n",
       "  <th>Dep. Variable:</th>       <td>Direction</td>    <th>  No. Observations:  </th>  <td>  1253</td> \n",
       "</tr>\n",
       "<tr>\n",
       "  <th>Model:</th>                 <td>Logit</td>      <th>  Df Residuals:      </th>  <td>  1247</td> \n",
       "</tr>\n",
       "<tr>\n",
       "  <th>Method:</th>                 <td>MLE</td>       <th>  Df Model:          </th>  <td>     5</td> \n",
       "</tr>\n",
       "<tr>\n",
       "  <th>Date:</th>            <td>Tue, 07 Jun 2022</td> <th>  Pseudo R-squ.:     </th> <td>0.009627</td>\n",
       "</tr>\n",
       "<tr>\n",
       "  <th>Time:</th>                <td>13:04:19</td>     <th>  Log-Likelihood:    </th> <td> -853.15</td>\n",
       "</tr>\n",
       "<tr>\n",
       "  <th>converged:</th>             <td>True</td>       <th>  LL-Null:           </th> <td> -861.44</td>\n",
       "</tr>\n",
       "<tr>\n",
       "  <th>Covariance Type:</th>     <td>nonrobust</td>    <th>  LLR p-value:       </th> <td>0.005354</td>\n",
       "</tr>\n",
       "</table>\n",
       "<table class=\"simpletable\">\n",
       "<tr>\n",
       "    <td></td>       <th>coef</th>     <th>std err</th>      <th>z</th>      <th>P>|z|</th>  <th>[0.025</th>    <th>0.975]</th>  \n",
       "</tr>\n",
       "<tr>\n",
       "  <th>const</th> <td>    0.2424</td> <td>    0.059</td> <td>    4.135</td> <td> 0.000</td> <td>    0.128</td> <td>    0.357</td>\n",
       "</tr>\n",
       "<tr>\n",
       "  <th>Lag 1</th> <td>   -0.1319</td> <td>    0.034</td> <td>   -3.887</td> <td> 0.000</td> <td>   -0.198</td> <td>   -0.065</td>\n",
       "</tr>\n",
       "<tr>\n",
       "  <th>Lag 2</th> <td>   -0.0282</td> <td>    0.034</td> <td>   -0.826</td> <td> 0.409</td> <td>   -0.095</td> <td>    0.039</td>\n",
       "</tr>\n",
       "<tr>\n",
       "  <th>Lag 3</th> <td>   -0.0255</td> <td>    0.034</td> <td>   -0.749</td> <td> 0.454</td> <td>   -0.092</td> <td>    0.041</td>\n",
       "</tr>\n",
       "<tr>\n",
       "  <th>Lag 4</th> <td>   -0.0002</td> <td>    0.034</td> <td>   -0.006</td> <td> 0.995</td> <td>   -0.067</td> <td>    0.066</td>\n",
       "</tr>\n",
       "<tr>\n",
       "  <th>Lag 5</th> <td>   -0.0164</td> <td>    0.033</td> <td>   -0.499</td> <td> 0.618</td> <td>   -0.081</td> <td>    0.048</td>\n",
       "</tr>\n",
       "</table>"
      ],
      "text/plain": [
       "<class 'statsmodels.iolib.summary.Summary'>\n",
       "\"\"\"\n",
       "                           Logit Regression Results                           \n",
       "==============================================================================\n",
       "Dep. Variable:              Direction   No. Observations:                 1253\n",
       "Model:                          Logit   Df Residuals:                     1247\n",
       "Method:                           MLE   Df Model:                            5\n",
       "Date:                Tue, 07 Jun 2022   Pseudo R-squ.:                0.009627\n",
       "Time:                        13:04:19   Log-Likelihood:                -853.15\n",
       "converged:                       True   LL-Null:                       -861.44\n",
       "Covariance Type:            nonrobust   LLR p-value:                  0.005354\n",
       "==============================================================================\n",
       "                 coef    std err          z      P>|z|      [0.025      0.975]\n",
       "------------------------------------------------------------------------------\n",
       "const          0.2424      0.059      4.135      0.000       0.128       0.357\n",
       "Lag 1         -0.1319      0.034     -3.887      0.000      -0.198      -0.065\n",
       "Lag 2         -0.0282      0.034     -0.826      0.409      -0.095       0.039\n",
       "Lag 3         -0.0255      0.034     -0.749      0.454      -0.092       0.041\n",
       "Lag 4         -0.0002      0.034     -0.006      0.995      -0.067       0.066\n",
       "Lag 5         -0.0164      0.033     -0.499      0.618      -0.081       0.048\n",
       "==============================================================================\n",
       "\"\"\""
      ]
     },
     "execution_count": 23,
     "metadata": {},
     "output_type": "execute_result"
    }
   ],
   "source": [
    "result.summary()"
   ]
  },
  {
   "cell_type": "code",
   "execution_count": 24,
   "id": "d5dfb83f",
   "metadata": {},
   "outputs": [],
   "source": [
    "prediction = result.predict(x)"
   ]
  },
  {
   "cell_type": "code",
   "execution_count": 25,
   "id": "d3281c7a",
   "metadata": {},
   "outputs": [
    {
     "data": {
      "text/plain": [
       "6       0.530291\n",
       "7       0.526648\n",
       "8       0.578407\n",
       "9       0.544697\n",
       "10      0.483023\n",
       "          ...   \n",
       "1254    0.688764\n",
       "1255    0.638304\n",
       "1256    0.536377\n",
       "1257    0.545037\n",
       "1258    0.491809\n",
       "Length: 1253, dtype: float64"
      ]
     },
     "execution_count": 25,
     "metadata": {},
     "output_type": "execute_result"
    }
   ],
   "source": [
    "prediction"
   ]
  },
  {
   "cell_type": "markdown",
   "id": "75982261",
   "metadata": {},
   "source": [
    "### 3. Test the Model"
   ]
  },
  {
   "cell_type": "code",
   "execution_count": 30,
   "id": "f2411738",
   "metadata": {},
   "outputs": [],
   "source": [
    "x_train = df[df.Date.dt.year < 2020][['const','Lag 1','Lag 2','Lag 3','Lag 4','Lag 5']]\n",
    "y_train = df[df.Date.dt.year < 2020]['Direction']\n",
    "x_test = df[df.Date.dt.year > 2020][['const','Lag 1','Lag 2','Lag 3','Lag 4','Lag 5']]\n",
    "y_test = df[df.Date.dt.year > 2020]['Direction']"
   ]
  },
  {
   "cell_type": "code",
   "execution_count": 31,
   "id": "91ed4a7e",
   "metadata": {},
   "outputs": [],
   "source": [
    "model = sm.Logit(y_train,x_train)"
   ]
  },
  {
   "cell_type": "code",
   "execution_count": 32,
   "id": "1176b8d1",
   "metadata": {},
   "outputs": [
    {
     "name": "stdout",
     "output_type": "stream",
     "text": [
      "Optimization terminated successfully.\n",
      "         Current function value: 0.673898\n",
      "         Iterations 4\n"
     ]
    }
   ],
   "source": [
    "result = model.fit()"
   ]
  },
  {
   "cell_type": "markdown",
   "id": "28b58f11",
   "metadata": {},
   "source": [
    "### 4. Prediction Accuracy"
   ]
  },
  {
   "cell_type": "markdown",
   "id": "79560639",
   "metadata": {},
   "source": [
    "####  Train set prediction accuracy"
   ]
  },
  {
   "cell_type": "code",
   "execution_count": 26,
   "id": "90c29477",
   "metadata": {},
   "outputs": [],
   "source": [
    "def confusion_matrix(act, pred):\n",
    "    predtrans = ['Up' if i>0.5 else 'Down' for i in pred]\n",
    "    actuals = ['Up' if i>0 else 'Down' for i in act]\n",
    "    confusion_matrix = pd.crosstab(pd.Series(actuals),\n",
    "                                   pd.Series(predtrans),\n",
    "                                  rownames=['Actual'],\n",
    "                                  colnames=['Predicted'])\n",
    "    return confusion_matrix"
   ]
  },
  {
   "cell_type": "code",
   "execution_count": 27,
   "id": "a50ebcff",
   "metadata": {
    "scrolled": false
   },
   "outputs": [
    {
     "data": {
      "text/html": [
       "<div>\n",
       "<style scoped>\n",
       "    .dataframe tbody tr th:only-of-type {\n",
       "        vertical-align: middle;\n",
       "    }\n",
       "\n",
       "    .dataframe tbody tr th {\n",
       "        vertical-align: top;\n",
       "    }\n",
       "\n",
       "    .dataframe thead th {\n",
       "        text-align: right;\n",
       "    }\n",
       "</style>\n",
       "<table border=\"1\" class=\"dataframe\">\n",
       "  <thead>\n",
       "    <tr style=\"text-align: right;\">\n",
       "      <th>Predicted</th>\n",
       "      <th>Down</th>\n",
       "      <th>Up</th>\n",
       "    </tr>\n",
       "    <tr>\n",
       "      <th>Actual</th>\n",
       "      <th></th>\n",
       "      <th></th>\n",
       "    </tr>\n",
       "  </thead>\n",
       "  <tbody>\n",
       "    <tr>\n",
       "      <th>Down</th>\n",
       "      <td>75</td>\n",
       "      <td>485</td>\n",
       "    </tr>\n",
       "    <tr>\n",
       "      <th>Up</th>\n",
       "      <td>67</td>\n",
       "      <td>626</td>\n",
       "    </tr>\n",
       "  </tbody>\n",
       "</table>\n",
       "</div>"
      ],
      "text/plain": [
       "Predicted  Down   Up\n",
       "Actual              \n",
       "Down         75  485\n",
       "Up           67  626"
      ]
     },
     "execution_count": 27,
     "metadata": {},
     "output_type": "execute_result"
    }
   ],
   "source": [
    "confusion_matrix(y,prediction)"
   ]
  },
  {
   "cell_type": "code",
   "execution_count": 28,
   "id": "3421a441",
   "metadata": {
    "scrolled": true
   },
   "outputs": [
    {
     "data": {
      "text/plain": [
       "1253"
      ]
     },
     "execution_count": 28,
     "metadata": {},
     "output_type": "execute_result"
    }
   ],
   "source": [
    "len(df)"
   ]
  },
  {
   "cell_type": "code",
   "execution_count": 29,
   "id": "8398b07e",
   "metadata": {},
   "outputs": [
    {
     "name": "stdout",
     "output_type": "stream",
     "text": [
      "0.5594573024740622\n"
     ]
    }
   ],
   "source": [
    "Prediction_accuracy = (75+626)/len(df)\n",
    "print(Prediction_accuracy)"
   ]
  },
  {
   "cell_type": "markdown",
   "id": "67fda691",
   "metadata": {},
   "source": [
    "The accuracy of train set prediction: 55.9%"
   ]
  },
  {
   "cell_type": "markdown",
   "id": "e31895b1",
   "metadata": {},
   "source": [
    "#### Test set prediction accuracy"
   ]
  },
  {
   "cell_type": "code",
   "execution_count": 33,
   "id": "fe8aa9c0",
   "metadata": {},
   "outputs": [
    {
     "data": {
      "text/html": [
       "<div>\n",
       "<style scoped>\n",
       "    .dataframe tbody tr th:only-of-type {\n",
       "        vertical-align: middle;\n",
       "    }\n",
       "\n",
       "    .dataframe tbody tr th {\n",
       "        vertical-align: top;\n",
       "    }\n",
       "\n",
       "    .dataframe thead th {\n",
       "        text-align: right;\n",
       "    }\n",
       "</style>\n",
       "<table border=\"1\" class=\"dataframe\">\n",
       "  <thead>\n",
       "    <tr style=\"text-align: right;\">\n",
       "      <th>Predicted</th>\n",
       "      <th>Down</th>\n",
       "      <th>Up</th>\n",
       "    </tr>\n",
       "    <tr>\n",
       "      <th>Actual</th>\n",
       "      <th></th>\n",
       "      <th></th>\n",
       "    </tr>\n",
       "  </thead>\n",
       "  <tbody>\n",
       "    <tr>\n",
       "      <th>Down</th>\n",
       "      <td>10</td>\n",
       "      <td>159</td>\n",
       "    </tr>\n",
       "    <tr>\n",
       "      <th>Up</th>\n",
       "      <td>13</td>\n",
       "      <td>165</td>\n",
       "    </tr>\n",
       "  </tbody>\n",
       "</table>\n",
       "</div>"
      ],
      "text/plain": [
       "Predicted  Down   Up\n",
       "Actual              \n",
       "Down         10  159\n",
       "Up           13  165"
      ]
     },
     "execution_count": 33,
     "metadata": {},
     "output_type": "execute_result"
    }
   ],
   "source": [
    "confusion_matrix(y_test, prediction)"
   ]
  },
  {
   "cell_type": "code",
   "execution_count": 67,
   "id": "f38ab254",
   "metadata": {},
   "outputs": [
    {
     "data": {
      "text/plain": [
       "347"
      ]
     },
     "execution_count": 67,
     "metadata": {},
     "output_type": "execute_result"
    }
   ],
   "source": [
    "len(x_test)"
   ]
  },
  {
   "cell_type": "code",
   "execution_count": 34,
   "id": "2e8750de",
   "metadata": {},
   "outputs": [
    {
     "data": {
      "text/plain": [
       "0.5043227665706052"
      ]
     },
     "execution_count": 34,
     "metadata": {},
     "output_type": "execute_result"
    }
   ],
   "source": [
    "#Prediction_accuracy\n",
    "(10+165)/len(x_test)"
   ]
  },
  {
   "cell_type": "markdown",
   "id": "129f6294",
   "metadata": {},
   "source": [
    "The accuracy of test set prediction: 50.4%"
   ]
  }
 ],
 "metadata": {
  "kernelspec": {
   "display_name": "Python 3 (ipykernel)",
   "language": "python",
   "name": "python3"
  },
  "language_info": {
   "codemirror_mode": {
    "name": "ipython",
    "version": 3
   },
   "file_extension": ".py",
   "mimetype": "text/x-python",
   "name": "python",
   "nbconvert_exporter": "python",
   "pygments_lexer": "ipython3",
   "version": "3.9.7"
  }
 },
 "nbformat": 4,
 "nbformat_minor": 5
}
