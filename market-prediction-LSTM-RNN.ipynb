{
 "cells": [
  {
   "cell_type": "markdown",
   "id": "80598459",
   "metadata": {},
   "source": [
    "### 1. Analyze the data"
   ]
  },
  {
   "cell_type": "markdown",
   "id": "f85511f6",
   "metadata": {},
   "source": [
    "#### Import libraries"
   ]
  },
  {
   "cell_type": "code",
   "execution_count": 2,
   "id": "0375932f",
   "metadata": {},
   "outputs": [],
   "source": [
    "import pandas as pd\n",
    "import numpy as np\n",
    "import matplotlib.pyplot as plt\n",
    "\n",
    "from keras.models import Sequential\n",
    "from keras.layers import LSTM,Dropout,Dense\n",
    "from sklearn.preprocessing import MinMaxScaler"
   ]
  },
  {
   "cell_type": "markdown",
   "id": "78f9cff5",
   "metadata": {},
   "source": [
    "#### Data preprocessing"
   ]
  },
  {
   "cell_type": "code",
   "execution_count": 3,
   "id": "87f12e1e",
   "metadata": {},
   "outputs": [
    {
     "name": "stdout",
     "output_type": "stream",
     "text": [
      "<class 'pandas.core.frame.DataFrame'>\n",
      "RangeIndex: 881 entries, 0 to 880\n",
      "Data columns (total 7 columns):\n",
      " #   Column     Non-Null Count  Dtype  \n",
      "---  ------     --------------  -----  \n",
      " 0   Date       881 non-null    object \n",
      " 1   Open       881 non-null    float64\n",
      " 2   High       881 non-null    float64\n",
      " 3   Low        881 non-null    float64\n",
      " 4   Close      881 non-null    float64\n",
      " 5   Adj Close  881 non-null    float64\n",
      " 6   Volume     881 non-null    int64  \n",
      "dtypes: float64(5), int64(1), object(1)\n",
      "memory usage: 48.3+ KB\n"
     ]
    }
   ],
   "source": [
    "df = pd.read_csv('Downloads/MSFT_train_data.csv')\n",
    "df.info()"
   ]
  },
  {
   "cell_type": "code",
   "execution_count": 4,
   "id": "f4e53758",
   "metadata": {},
   "outputs": [
    {
     "data": {
      "text/html": [
       "<div>\n",
       "<style scoped>\n",
       "    .dataframe tbody tr th:only-of-type {\n",
       "        vertical-align: middle;\n",
       "    }\n",
       "\n",
       "    .dataframe tbody tr th {\n",
       "        vertical-align: top;\n",
       "    }\n",
       "\n",
       "    .dataframe thead th {\n",
       "        text-align: right;\n",
       "    }\n",
       "</style>\n",
       "<table border=\"1\" class=\"dataframe\">\n",
       "  <thead>\n",
       "    <tr style=\"text-align: right;\">\n",
       "      <th></th>\n",
       "      <th>Date</th>\n",
       "      <th>Open</th>\n",
       "      <th>High</th>\n",
       "      <th>Low</th>\n",
       "      <th>Close</th>\n",
       "      <th>Adj Close</th>\n",
       "      <th>Volume</th>\n",
       "    </tr>\n",
       "  </thead>\n",
       "  <tbody>\n",
       "    <tr>\n",
       "      <th>876</th>\n",
       "      <td>2020-11-10</td>\n",
       "      <td>214.500000</td>\n",
       "      <td>216.500000</td>\n",
       "      <td>209.720001</td>\n",
       "      <td>211.009995</td>\n",
       "      <td>208.278870</td>\n",
       "      <td>44045100</td>\n",
       "    </tr>\n",
       "    <tr>\n",
       "      <th>877</th>\n",
       "      <td>2020-11-11</td>\n",
       "      <td>212.389999</td>\n",
       "      <td>218.039993</td>\n",
       "      <td>212.199997</td>\n",
       "      <td>216.550003</td>\n",
       "      <td>213.747177</td>\n",
       "      <td>29440800</td>\n",
       "    </tr>\n",
       "    <tr>\n",
       "      <th>878</th>\n",
       "      <td>2020-11-12</td>\n",
       "      <td>217.210007</td>\n",
       "      <td>219.110001</td>\n",
       "      <td>214.460007</td>\n",
       "      <td>215.440002</td>\n",
       "      <td>212.651550</td>\n",
       "      <td>21593900</td>\n",
       "    </tr>\n",
       "    <tr>\n",
       "      <th>879</th>\n",
       "      <td>2020-11-13</td>\n",
       "      <td>216.360001</td>\n",
       "      <td>217.419998</td>\n",
       "      <td>214.160004</td>\n",
       "      <td>216.509995</td>\n",
       "      <td>213.707687</td>\n",
       "      <td>18621100</td>\n",
       "    </tr>\n",
       "    <tr>\n",
       "      <th>880</th>\n",
       "      <td>2020-11-16</td>\n",
       "      <td>214.869995</td>\n",
       "      <td>217.740005</td>\n",
       "      <td>214.520004</td>\n",
       "      <td>217.229996</td>\n",
       "      <td>214.418365</td>\n",
       "      <td>24953300</td>\n",
       "    </tr>\n",
       "  </tbody>\n",
       "</table>\n",
       "</div>"
      ],
      "text/plain": [
       "           Date        Open        High         Low       Close   Adj Close  \\\n",
       "876  2020-11-10  214.500000  216.500000  209.720001  211.009995  208.278870   \n",
       "877  2020-11-11  212.389999  218.039993  212.199997  216.550003  213.747177   \n",
       "878  2020-11-12  217.210007  219.110001  214.460007  215.440002  212.651550   \n",
       "879  2020-11-13  216.360001  217.419998  214.160004  216.509995  213.707687   \n",
       "880  2020-11-16  214.869995  217.740005  214.520004  217.229996  214.418365   \n",
       "\n",
       "       Volume  \n",
       "876  44045100  \n",
       "877  29440800  \n",
       "878  21593900  \n",
       "879  18621100  \n",
       "880  24953300  "
      ]
     },
     "execution_count": 4,
     "metadata": {},
     "output_type": "execute_result"
    }
   ],
   "source": [
    "df.tail()"
   ]
  },
  {
   "cell_type": "code",
   "execution_count": 5,
   "id": "ed66a2ed",
   "metadata": {},
   "outputs": [],
   "source": [
    "df['Adj Close']=pd.to_numeric(df.Close, errors = 'coerce')\n",
    "df = df.dropna()\n",
    "train_data = df.iloc[:,5:6].values"
   ]
  },
  {
   "cell_type": "code",
   "execution_count": 7,
   "id": "2f985280",
   "metadata": {
    "scrolled": true
   },
   "outputs": [
    {
     "name": "stdout",
     "output_type": "stream",
     "text": [
      "<class 'pandas.core.frame.DataFrame'>\n",
      "Int64Index: 881 entries, 0 to 880\n",
      "Data columns (total 7 columns):\n",
      " #   Column     Non-Null Count  Dtype  \n",
      "---  ------     --------------  -----  \n",
      " 0   Date       881 non-null    object \n",
      " 1   Open       881 non-null    float64\n",
      " 2   High       881 non-null    float64\n",
      " 3   Low        881 non-null    float64\n",
      " 4   Close      881 non-null    float64\n",
      " 5   Adj Close  881 non-null    float64\n",
      " 6   Volume     881 non-null    int64  \n",
      "dtypes: float64(5), int64(1), object(1)\n",
      "memory usage: 55.1+ KB\n"
     ]
    }
   ],
   "source": [
    "df.info()"
   ]
  },
  {
   "cell_type": "markdown",
   "id": "a8545383",
   "metadata": {},
   "source": [
    "### 2. Train the model"
   ]
  },
  {
   "cell_type": "code",
   "execution_count": 8,
   "id": "53385a84",
   "metadata": {},
   "outputs": [
    {
     "data": {
      "text/plain": [
       "(881, 1)"
      ]
     },
     "execution_count": 8,
     "metadata": {},
     "output_type": "execute_result"
    }
   ],
   "source": [
    "sc = MinMaxScaler(feature_range=(0,1))\n",
    "train_data = sc.fit_transform(train_data)\n",
    "train_data.shape"
   ]
  },
  {
   "cell_type": "code",
   "execution_count": 9,
   "id": "322c0d0c",
   "metadata": {},
   "outputs": [],
   "source": [
    "x_train = []\n",
    "y_train = []\n",
    "\n",
    "for i in range (60,881): #60 = timestep // 881 = leangth of the data\n",
    "    x_train.append(train_data[i-60:i,0])\n",
    "    y_train.append(train_data[i,0])\n",
    "\n",
    "x_train, y_train = np.array(x_train), np.array(y_train)"
   ]
  },
  {
   "cell_type": "code",
   "execution_count": 10,
   "id": "d4383143",
   "metadata": {},
   "outputs": [
    {
     "data": {
      "text/plain": [
       "(821, 60, 1)"
      ]
     },
     "execution_count": 10,
     "metadata": {},
     "output_type": "execute_result"
    }
   ],
   "source": [
    "x_train = np.reshape(x_train,(x_train.shape[0], x_train.shape[1],1)) \n",
    "x_train.shape"
   ]
  },
  {
   "cell_type": "code",
   "execution_count": 11,
   "id": "713260ae",
   "metadata": {},
   "outputs": [],
   "source": [
    "model = Sequential()\n",
    "\n",
    "model.add(LSTM(units=100, return_sequences=True, input_shape=(x_train.shape[1],1)))\n",
    "model.add(Dropout(0.2))\n",
    "\n",
    "model.add(LSTM(units=100, return_sequences=True))\n",
    "model.add(Dropout(0.2))\n",
    "\n",
    "model.add(LSTM(units=100, return_sequences=True))\n",
    "model.add(Dropout(0.2))\n",
    "\n",
    "model.add(LSTM(units=100, return_sequences=False))\n",
    "model.add(Dropout(0.2))\n",
    "\n",
    "model.add(Dense(units=1))"
   ]
  },
  {
   "cell_type": "code",
   "execution_count": 12,
   "id": "81b547eb",
   "metadata": {},
   "outputs": [],
   "source": [
    "model.compile(optimizer='adam', loss=\"mean_squared_error\")"
   ]
  },
  {
   "cell_type": "code",
   "execution_count": 13,
   "id": "f699fa88",
   "metadata": {},
   "outputs": [
    {
     "name": "stdout",
     "output_type": "stream",
     "text": [
      "Epoch 1/20\n",
      "26/26 - 7s - loss: 0.0302 - 7s/epoch - 262ms/step\n",
      "Epoch 2/20\n",
      "26/26 - 2s - loss: 0.0037 - 2s/epoch - 96ms/step\n",
      "Epoch 3/20\n",
      "26/26 - 2s - loss: 0.0032 - 2s/epoch - 87ms/step\n",
      "Epoch 4/20\n",
      "26/26 - 2s - loss: 0.0041 - 2s/epoch - 85ms/step\n",
      "Epoch 5/20\n",
      "26/26 - 2s - loss: 0.0039 - 2s/epoch - 91ms/step\n",
      "Epoch 6/20\n",
      "26/26 - 2s - loss: 0.0031 - 2s/epoch - 89ms/step\n",
      "Epoch 7/20\n",
      "26/26 - 2s - loss: 0.0036 - 2s/epoch - 88ms/step\n",
      "Epoch 8/20\n",
      "26/26 - 2s - loss: 0.0036 - 2s/epoch - 88ms/step\n",
      "Epoch 9/20\n",
      "26/26 - 2s - loss: 0.0034 - 2s/epoch - 88ms/step\n",
      "Epoch 10/20\n",
      "26/26 - 2s - loss: 0.0027 - 2s/epoch - 87ms/step\n",
      "Epoch 11/20\n",
      "26/26 - 2s - loss: 0.0027 - 2s/epoch - 87ms/step\n",
      "Epoch 12/20\n",
      "26/26 - 2s - loss: 0.0027 - 2s/epoch - 92ms/step\n",
      "Epoch 13/20\n",
      "26/26 - 2s - loss: 0.0032 - 2s/epoch - 88ms/step\n",
      "Epoch 14/20\n",
      "26/26 - 2s - loss: 0.0025 - 2s/epoch - 87ms/step\n",
      "Epoch 15/20\n",
      "26/26 - 2s - loss: 0.0025 - 2s/epoch - 89ms/step\n",
      "Epoch 16/20\n",
      "26/26 - 3s - loss: 0.0028 - 3s/epoch - 103ms/step\n",
      "Epoch 17/20\n",
      "26/26 - 2s - loss: 0.0024 - 2s/epoch - 94ms/step\n",
      "Epoch 18/20\n",
      "26/26 - 2s - loss: 0.0025 - 2s/epoch - 93ms/step\n",
      "Epoch 19/20\n",
      "26/26 - 3s - loss: 0.0025 - 3s/epoch - 99ms/step\n",
      "Epoch 20/20\n",
      "26/26 - 2s - loss: 0.0024 - 2s/epoch - 90ms/step\n"
     ]
    }
   ],
   "source": [
    "hist = model.fit(x_train, y_train, epochs=20, batch_size=32, verbose=2)"
   ]
  },
  {
   "cell_type": "code",
   "execution_count": 14,
   "id": "15348f97",
   "metadata": {},
   "outputs": [
    {
     "data": {
      "text/plain": [
       "<function matplotlib.pyplot.show(close=None, block=None)>"
      ]
     },
     "execution_count": 14,
     "metadata": {},
     "output_type": "execute_result"
    },
    {
     "data": {
      "image/png": "[encoded data removed]",
      "text/plain": [
       "<Figure size 432x288 with 1 Axes>"
      ]
     },
     "metadata": {
      "needs_background": "light"
     },
     "output_type": "display_data"
    }
   ],
   "source": [
    "plt.plot(hist.history['loss'])\n",
    "plt.title('Training model loss')\n",
    "plt.ylabel('loss')\n",
    "plt.xlabel('epoch')\n",
    "plt.legend(['train'], loc='upper right')\n",
    "plt.show"
   ]
  },
  {
   "cell_type": "code",
   "execution_count": 63,
   "id": "69133b79",
   "metadata": {},
   "outputs": [
    {
     "data": {
      "image/png": "[encoded data removed]",
      "text/plain": [
       "<Figure size 432x288 with 1 Axes>"
      ]
     },
     "metadata": {
      "needs_background": "light"
     },
     "output_type": "display_data"
    }
   ],
   "source": [
    "plt.plot(y_train, color = 'red', label = 'Actual stock price')\n",
    "plt.plot(model.predict(x_train), color = 'green', label = 'Predicted stock price')\n",
    "plt.title('Microsoft Stock Market Prediction (Train Set)')\n",
    "plt.xlabel('Time')\n",
    "plt.ylabel('Stock price')\n",
    "plt.legend()\n",
    "plt.show()"
   ]
  },
  {
   "cell_type": "markdown",
   "id": "a590e7fc",
   "metadata": {},
   "source": [
    "### 3. Test the model"
   ]
  },
  {
   "cell_type": "code",
   "execution_count": 52,
   "id": "491b85dd",
   "metadata": {},
   "outputs": [],
   "source": [
    "test_data = pd.read_csv('Downloads/MSFT_test_data.csv')"
   ]
  },
  {
   "cell_type": "code",
   "execution_count": 53,
   "id": "251ed639",
   "metadata": {},
   "outputs": [
    {
     "data": {
      "text/html": [
       "<div>\n",
       "<style scoped>\n",
       "    .dataframe tbody tr th:only-of-type {\n",
       "        vertical-align: middle;\n",
       "    }\n",
       "\n",
       "    .dataframe tbody tr th {\n",
       "        vertical-align: top;\n",
       "    }\n",
       "\n",
       "    .dataframe thead th {\n",
       "        text-align: right;\n",
       "    }\n",
       "</style>\n",
       "<table border=\"1\" class=\"dataframe\">\n",
       "  <thead>\n",
       "    <tr style=\"text-align: right;\">\n",
       "      <th></th>\n",
       "      <th>Date</th>\n",
       "      <th>Open</th>\n",
       "      <th>High</th>\n",
       "      <th>Low</th>\n",
       "      <th>Close</th>\n",
       "      <th>Adj Close</th>\n",
       "      <th>Volume</th>\n",
       "    </tr>\n",
       "  </thead>\n",
       "  <tbody>\n",
       "    <tr>\n",
       "      <th>0</th>\n",
       "      <td>2020-11-17</td>\n",
       "      <td>216.100006</td>\n",
       "      <td>217.679993</td>\n",
       "      <td>214.080002</td>\n",
       "      <td>214.460007</td>\n",
       "      <td>211.684235</td>\n",
       "      <td>24154100</td>\n",
       "    </tr>\n",
       "    <tr>\n",
       "      <th>1</th>\n",
       "      <td>2020-11-18</td>\n",
       "      <td>213.649994</td>\n",
       "      <td>215.169998</td>\n",
       "      <td>210.929993</td>\n",
       "      <td>211.080002</td>\n",
       "      <td>208.893448</td>\n",
       "      <td>28372800</td>\n",
       "    </tr>\n",
       "    <tr>\n",
       "      <th>2</th>\n",
       "      <td>2020-11-19</td>\n",
       "      <td>211.380005</td>\n",
       "      <td>213.029999</td>\n",
       "      <td>209.929993</td>\n",
       "      <td>212.419998</td>\n",
       "      <td>210.219559</td>\n",
       "      <td>24792700</td>\n",
       "    </tr>\n",
       "    <tr>\n",
       "      <th>3</th>\n",
       "      <td>2020-11-20</td>\n",
       "      <td>212.199997</td>\n",
       "      <td>213.289993</td>\n",
       "      <td>210.000000</td>\n",
       "      <td>210.389999</td>\n",
       "      <td>208.210571</td>\n",
       "      <td>22843100</td>\n",
       "    </tr>\n",
       "    <tr>\n",
       "      <th>4</th>\n",
       "      <td>2020-11-23</td>\n",
       "      <td>210.949997</td>\n",
       "      <td>212.289993</td>\n",
       "      <td>208.160004</td>\n",
       "      <td>210.110001</td>\n",
       "      <td>207.933487</td>\n",
       "      <td>25683500</td>\n",
       "    </tr>\n",
       "    <tr>\n",
       "      <th>...</th>\n",
       "      <td>...</td>\n",
       "      <td>...</td>\n",
       "      <td>...</td>\n",
       "      <td>...</td>\n",
       "      <td>...</td>\n",
       "      <td>...</td>\n",
       "      <td>...</td>\n",
       "    </tr>\n",
       "    <tr>\n",
       "      <th>373</th>\n",
       "      <td>2022-05-12</td>\n",
       "      <td>257.690002</td>\n",
       "      <td>259.880005</td>\n",
       "      <td>250.020004</td>\n",
       "      <td>255.350006</td>\n",
       "      <td>255.350006</td>\n",
       "      <td>51033800</td>\n",
       "    </tr>\n",
       "    <tr>\n",
       "      <th>374</th>\n",
       "      <td>2022-05-13</td>\n",
       "      <td>257.350006</td>\n",
       "      <td>263.040009</td>\n",
       "      <td>255.350006</td>\n",
       "      <td>261.119995</td>\n",
       "      <td>261.119995</td>\n",
       "      <td>34893400</td>\n",
       "    </tr>\n",
       "    <tr>\n",
       "      <th>375</th>\n",
       "      <td>2022-05-16</td>\n",
       "      <td>259.959991</td>\n",
       "      <td>265.820007</td>\n",
       "      <td>255.779999</td>\n",
       "      <td>261.500000</td>\n",
       "      <td>261.500000</td>\n",
       "      <td>32550900</td>\n",
       "    </tr>\n",
       "    <tr>\n",
       "      <th>376</th>\n",
       "      <td>2022-05-17</td>\n",
       "      <td>266.109985</td>\n",
       "      <td>268.329987</td>\n",
       "      <td>262.459991</td>\n",
       "      <td>266.820007</td>\n",
       "      <td>266.820007</td>\n",
       "      <td>28806100</td>\n",
       "    </tr>\n",
       "    <tr>\n",
       "      <th>377</th>\n",
       "      <td>2022-05-18</td>\n",
       "      <td>263.000000</td>\n",
       "      <td>263.600006</td>\n",
       "      <td>256.410004</td>\n",
       "      <td>257.019989</td>\n",
       "      <td>257.019989</td>\n",
       "      <td>11705360</td>\n",
       "    </tr>\n",
       "  </tbody>\n",
       "</table>\n",
       "<p>378 rows × 7 columns</p>\n",
       "</div>"
      ],
      "text/plain": [
       "           Date        Open        High         Low       Close   Adj Close  \\\n",
       "0    2020-11-17  216.100006  217.679993  214.080002  214.460007  211.684235   \n",
       "1    2020-11-18  213.649994  215.169998  210.929993  211.080002  208.893448   \n",
       "2    2020-11-19  211.380005  213.029999  209.929993  212.419998  210.219559   \n",
       "3    2020-11-20  212.199997  213.289993  210.000000  210.389999  208.210571   \n",
       "4    2020-11-23  210.949997  212.289993  208.160004  210.110001  207.933487   \n",
       "..          ...         ...         ...         ...         ...         ...   \n",
       "373  2022-05-12  257.690002  259.880005  250.020004  255.350006  255.350006   \n",
       "374  2022-05-13  257.350006  263.040009  255.350006  261.119995  261.119995   \n",
       "375  2022-05-16  259.959991  265.820007  255.779999  261.500000  261.500000   \n",
       "376  2022-05-17  266.109985  268.329987  262.459991  266.820007  266.820007   \n",
       "377  2022-05-18  263.000000  263.600006  256.410004  257.019989  257.019989   \n",
       "\n",
       "       Volume  \n",
       "0    24154100  \n",
       "1    28372800  \n",
       "2    24792700  \n",
       "3    22843100  \n",
       "4    25683500  \n",
       "..        ...  \n",
       "373  51033800  \n",
       "374  34893400  \n",
       "375  32550900  \n",
       "376  28806100  \n",
       "377  11705360  \n",
       "\n",
       "[378 rows x 7 columns]"
      ]
     },
     "execution_count": 53,
     "metadata": {},
     "output_type": "execute_result"
    }
   ],
   "source": [
    "test_data"
   ]
  },
  {
   "cell_type": "code",
   "execution_count": 54,
   "id": "294534b2",
   "metadata": {},
   "outputs": [],
   "source": [
    "test_data['Adj Close'] = pd.to_numeric(test_data.Close, errors = 'coerce')\n",
    "test_data = test_data.dropna()\n",
    "test_data = test_data.iloc[:,5:6]\n",
    "y_test = test_data.iloc[60:,0:].values"
   ]
  },
  {
   "cell_type": "code",
   "execution_count": 58,
   "id": "70e52aeb",
   "metadata": {},
   "outputs": [
    {
     "data": {
      "text/html": [
       "<div>\n",
       "<style scoped>\n",
       "    .dataframe tbody tr th:only-of-type {\n",
       "        vertical-align: middle;\n",
       "    }\n",
       "\n",
       "    .dataframe tbody tr th {\n",
       "        vertical-align: top;\n",
       "    }\n",
       "\n",
       "    .dataframe thead th {\n",
       "        text-align: right;\n",
       "    }\n",
       "</style>\n",
       "<table border=\"1\" class=\"dataframe\">\n",
       "  <thead>\n",
       "    <tr style=\"text-align: right;\">\n",
       "      <th></th>\n",
       "      <th>Adj Close</th>\n",
       "    </tr>\n",
       "  </thead>\n",
       "  <tbody>\n",
       "    <tr>\n",
       "      <th>373</th>\n",
       "      <td>255.350006</td>\n",
       "    </tr>\n",
       "    <tr>\n",
       "      <th>374</th>\n",
       "      <td>261.119995</td>\n",
       "    </tr>\n",
       "    <tr>\n",
       "      <th>375</th>\n",
       "      <td>261.500000</td>\n",
       "    </tr>\n",
       "    <tr>\n",
       "      <th>376</th>\n",
       "      <td>266.820007</td>\n",
       "    </tr>\n",
       "    <tr>\n",
       "      <th>377</th>\n",
       "      <td>257.019989</td>\n",
       "    </tr>\n",
       "  </tbody>\n",
       "</table>\n",
       "</div>"
      ],
      "text/plain": [
       "      Adj Close\n",
       "373  255.350006\n",
       "374  261.119995\n",
       "375  261.500000\n",
       "376  266.820007\n",
       "377  257.019989"
      ]
     },
     "execution_count": 58,
     "metadata": {},
     "output_type": "execute_result"
    }
   ],
   "source": [
    "test_data.tail()"
   ]
  },
  {
   "cell_type": "code",
   "execution_count": 56,
   "id": "3ca0318a",
   "metadata": {},
   "outputs": [
    {
     "data": {
      "text/plain": [
       "(378, 1)"
      ]
     },
     "execution_count": 56,
     "metadata": {},
     "output_type": "execute_result"
    }
   ],
   "source": [
    "#input array for the model\n",
    "inputClossing = test_data.iloc[:,0:].values\n",
    "inputClossing_scaled = sc.transform(inputClossing)\n",
    "inputClossing_scaled.shape"
   ]
  },
  {
   "cell_type": "code",
   "execution_count": 48,
   "id": "37e9322d",
   "metadata": {},
   "outputs": [
    {
     "data": {
      "text/plain": [
       "(318, 60, 1)"
      ]
     },
     "execution_count": 48,
     "metadata": {},
     "output_type": "execute_result"
    }
   ],
   "source": [
    "x_test = []\n",
    "length = len(test_data)\n",
    "timestep = 60\n",
    "\n",
    "for i in range (timestep, length):\n",
    "    x_test.append(inputClossing_scaled[i-timestep:i,0])\n",
    "x_test = np.array(x_test)\n",
    "x_test = np.reshape(x_test,(x_test.shape[0],x_test.shape[1],1))\n",
    "x_test.shape"
   ]
  },
  {
   "cell_type": "code",
   "execution_count": 20,
   "id": "157ffe7d",
   "metadata": {},
   "outputs": [],
   "source": [
    "y_pred = model.predict(x_test)"
   ]
  },
  {
   "cell_type": "code",
   "execution_count": 21,
   "id": "b48c99a2",
   "metadata": {},
   "outputs": [],
   "source": [
    "predicted_price = sc.inverse_transform(y_pred)"
   ]
  },
  {
   "cell_type": "code",
   "execution_count": 64,
   "id": "5bba159b",
   "metadata": {},
   "outputs": [
    {
     "data": {
      "image/png": "[encoded data removed]",
      "text/plain": [
       "<Figure size 432x288 with 1 Axes>"
      ]
     },
     "metadata": {
      "needs_background": "light"
     },
     "output_type": "display_data"
    }
   ],
   "source": [
    "plt.plot(y_test, color = 'red', label = 'Actual stock price')\n",
    "plt.plot(predicted_price, color = 'green', label = 'Predicted stock price')\n",
    "plt.title('Microsoft Stock Market Prediction (Test Set)')\n",
    "plt.xlabel('Time')\n",
    "plt.ylabel('Stock price')\n",
    "plt.legend()\n",
    "plt.show()"
   ]
  },
  {
   "cell_type": "markdown",
   "id": "197b1c45",
   "metadata": {},
   "source": [
    "### 4. Prediction Accuracy"
   ]
  },
  {
   "cell_type": "code",
   "execution_count": 23,
   "id": "e3d371a5",
   "metadata": {},
   "outputs": [
    {
     "data": {
      "text/plain": [
       "631.4136503632519"
      ]
     },
     "execution_count": 23,
     "metadata": {},
     "output_type": "execute_result"
    }
   ],
   "source": [
    "from sklearn.metrics import mean_squared_error\n",
    "mean_squared_error(y_test, predicted_price)"
   ]
  },
  {
   "cell_type": "code",
   "execution_count": 24,
   "id": "6248947c",
   "metadata": {},
   "outputs": [],
   "source": [
    "#For model evaluation\n",
    "from sklearn.metrics import mean_squared_error as mse\n",
    "from sklearn.metrics import r2_score"
   ]
  },
  {
   "cell_type": "code",
   "execution_count": 61,
   "id": "cd1c8ec8",
   "metadata": {},
   "outputs": [],
   "source": [
    "#calculate scores for model evaluation\n",
    "scores = f'''\n",
    "{'Metric'.ljust(10)}{'Train'.center(20)}{'Test'.center(20)}\n",
    "{'r2_score'.ljust(10)}{r2_score(y_train, model.predict(x_train))}\\t{r2_score(y_test, predicted_price)}\n",
    "'''"
   ]
  },
  {
   "cell_type": "code",
   "execution_count": 62,
   "id": "f0c4b765",
   "metadata": {},
   "outputs": [
    {
     "name": "stdout",
     "output_type": "stream",
     "text": [
      "\n",
      "Metric           Train                Test        \n",
      "r2_score  0.9779954818985533\t0.33157676380623735\n",
      "\n"
     ]
    }
   ],
   "source": [
    "print(scores)"
   ]
  }
 ],
 "metadata": {
  "kernelspec": {
   "display_name": "Python 3 (ipykernel)",
   "language": "python",
   "name": "python3"
  },
  "language_info": {
   "codemirror_mode": {
    "name": "ipython",
    "version": 3
   },
   "file_extension": ".py",
   "mimetype": "text/x-python",
   "name": "python",
   "nbconvert_exporter": "python",
   "pygments_lexer": "ipython3",
   "version": "3.9.7"
  }
 },
 "nbformat": 4,
 "nbformat_minor": 5
}
