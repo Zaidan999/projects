{
 "cells": [
  {
   "cell_type": "markdown",
   "id": "4739191a",
   "metadata": {},
   "source": [
    "### 1. Analyze the data"
   ]
  },
  {
   "cell_type": "markdown",
   "id": "ddf0cb03",
   "metadata": {},
   "source": [
    "#### Import Libraries"
   ]
  },
  {
   "cell_type": "code",
   "execution_count": 1,
   "id": "3218e12a",
   "metadata": {},
   "outputs": [],
   "source": [
    "from sklearn.svm import SVR\n",
    "import numpy as np\n",
    "import pandas as pd\n",
    "import matplotlib.pyplot as plt\n",
    "plt.style.use('fivethirtyeight')"
   ]
  },
  {
   "cell_type": "markdown",
   "id": "d68eebf6",
   "metadata": {},
   "source": [
    "#### Data Preprocessing"
   ]
  },
  {
   "cell_type": "code",
   "execution_count": 2,
   "id": "014790e9",
   "metadata": {},
   "outputs": [
    {
     "data": {
      "text/html": [
       "<div>\n",
       "<style scoped>\n",
       "    .dataframe tbody tr th:only-of-type {\n",
       "        vertical-align: middle;\n",
       "    }\n",
       "\n",
       "    .dataframe tbody tr th {\n",
       "        vertical-align: top;\n",
       "    }\n",
       "\n",
       "    .dataframe thead th {\n",
       "        text-align: right;\n",
       "    }\n",
       "</style>\n",
       "<table border=\"1\" class=\"dataframe\">\n",
       "  <thead>\n",
       "    <tr style=\"text-align: right;\">\n",
       "      <th></th>\n",
       "      <th>Date</th>\n",
       "      <th>Open</th>\n",
       "      <th>High</th>\n",
       "      <th>Low</th>\n",
       "      <th>Close</th>\n",
       "      <th>Adj Close</th>\n",
       "      <th>Volume</th>\n",
       "    </tr>\n",
       "  </thead>\n",
       "  <tbody>\n",
       "    <tr>\n",
       "      <th>12</th>\n",
       "      <td>04/25/2022</td>\n",
       "      <td>273.290009</td>\n",
       "      <td>281.109985</td>\n",
       "      <td>270.769989</td>\n",
       "      <td>280.720001</td>\n",
       "      <td>280.720001</td>\n",
       "      <td>35678900</td>\n",
       "    </tr>\n",
       "    <tr>\n",
       "      <th>13</th>\n",
       "      <td>04/26/2022</td>\n",
       "      <td>277.500000</td>\n",
       "      <td>278.359985</td>\n",
       "      <td>270.000000</td>\n",
       "      <td>270.220001</td>\n",
       "      <td>270.220001</td>\n",
       "      <td>46518400</td>\n",
       "    </tr>\n",
       "    <tr>\n",
       "      <th>14</th>\n",
       "      <td>04/27/2022</td>\n",
       "      <td>282.100006</td>\n",
       "      <td>290.970001</td>\n",
       "      <td>279.160004</td>\n",
       "      <td>283.220001</td>\n",
       "      <td>283.220001</td>\n",
       "      <td>63477700</td>\n",
       "    </tr>\n",
       "    <tr>\n",
       "      <th>15</th>\n",
       "      <td>04/28/2022</td>\n",
       "      <td>285.190002</td>\n",
       "      <td>290.980011</td>\n",
       "      <td>281.459991</td>\n",
       "      <td>289.630005</td>\n",
       "      <td>289.630005</td>\n",
       "      <td>33646600</td>\n",
       "    </tr>\n",
       "    <tr>\n",
       "      <th>16</th>\n",
       "      <td>04/29/2022</td>\n",
       "      <td>288.609985</td>\n",
       "      <td>289.880005</td>\n",
       "      <td>276.500000</td>\n",
       "      <td>277.519989</td>\n",
       "      <td>277.519989</td>\n",
       "      <td>37025000</td>\n",
       "    </tr>\n",
       "  </tbody>\n",
       "</table>\n",
       "</div>"
      ],
      "text/plain": [
       "           Date        Open        High         Low       Close   Adj Close  \\\n",
       "12   04/25/2022  273.290009  281.109985  270.769989  280.720001  280.720001   \n",
       "13   04/26/2022  277.500000  278.359985  270.000000  270.220001  270.220001   \n",
       "14   04/27/2022  282.100006  290.970001  279.160004  283.220001  283.220001   \n",
       "15   04/28/2022  285.190002  290.980011  281.459991  289.630005  289.630005   \n",
       "16   04/29/2022  288.609985  289.880005  276.500000  277.519989  277.519989   \n",
       "\n",
       "      Volume  \n",
       "12  35678900  \n",
       "13  46518400  \n",
       "14  63477700  \n",
       "15  33646600  \n",
       "16  37025000  "
      ]
     },
     "execution_count": 2,
     "metadata": {},
     "output_type": "execute_result"
    }
   ],
   "source": [
    "df = pd.read_csv('Downloads/MSFT_forSVM.csv')\n",
    "df.tail()"
   ]
  },
  {
   "cell_type": "markdown",
   "id": "3826be8c",
   "metadata": {},
   "source": [
    "#### Train set"
   ]
  },
  {
   "cell_type": "code",
   "execution_count": 3,
   "id": "b8f2d278",
   "metadata": {},
   "outputs": [
    {
     "data": {
      "text/html": [
       "<div>\n",
       "<style scoped>\n",
       "    .dataframe tbody tr th:only-of-type {\n",
       "        vertical-align: middle;\n",
       "    }\n",
       "\n",
       "    .dataframe tbody tr th {\n",
       "        vertical-align: top;\n",
       "    }\n",
       "\n",
       "    .dataframe thead th {\n",
       "        text-align: right;\n",
       "    }\n",
       "</style>\n",
       "<table border=\"1\" class=\"dataframe\">\n",
       "  <thead>\n",
       "    <tr style=\"text-align: right;\">\n",
       "      <th></th>\n",
       "      <th>Date</th>\n",
       "      <th>Open</th>\n",
       "      <th>High</th>\n",
       "      <th>Low</th>\n",
       "      <th>Close</th>\n",
       "      <th>Adj Close</th>\n",
       "      <th>Volume</th>\n",
       "    </tr>\n",
       "  </thead>\n",
       "  <tbody>\n",
       "    <tr>\n",
       "      <th>0</th>\n",
       "      <td>04/06/2022</td>\n",
       "      <td>305.190002</td>\n",
       "      <td>307.000000</td>\n",
       "      <td>296.709991</td>\n",
       "      <td>299.500000</td>\n",
       "      <td>299.500000</td>\n",
       "      <td>40110400</td>\n",
       "    </tr>\n",
       "    <tr>\n",
       "      <th>1</th>\n",
       "      <td>04/07/2022</td>\n",
       "      <td>296.660004</td>\n",
       "      <td>303.649994</td>\n",
       "      <td>296.350006</td>\n",
       "      <td>301.369995</td>\n",
       "      <td>301.369995</td>\n",
       "      <td>31411200</td>\n",
       "    </tr>\n",
       "    <tr>\n",
       "      <th>2</th>\n",
       "      <td>04/08/2022</td>\n",
       "      <td>300.440002</td>\n",
       "      <td>301.119995</td>\n",
       "      <td>296.279999</td>\n",
       "      <td>296.970001</td>\n",
       "      <td>296.970001</td>\n",
       "      <td>24361900</td>\n",
       "    </tr>\n",
       "    <tr>\n",
       "      <th>3</th>\n",
       "      <td>04/11/2022</td>\n",
       "      <td>291.790009</td>\n",
       "      <td>292.609985</td>\n",
       "      <td>285.000000</td>\n",
       "      <td>285.260010</td>\n",
       "      <td>285.260010</td>\n",
       "      <td>34569300</td>\n",
       "    </tr>\n",
       "    <tr>\n",
       "      <th>4</th>\n",
       "      <td>04/12/2022</td>\n",
       "      <td>289.239990</td>\n",
       "      <td>290.739990</td>\n",
       "      <td>280.489990</td>\n",
       "      <td>282.059998</td>\n",
       "      <td>282.059998</td>\n",
       "      <td>30966700</td>\n",
       "    </tr>\n",
       "    <tr>\n",
       "      <th>5</th>\n",
       "      <td>04/13/2022</td>\n",
       "      <td>282.730011</td>\n",
       "      <td>288.579987</td>\n",
       "      <td>281.299988</td>\n",
       "      <td>287.619995</td>\n",
       "      <td>287.619995</td>\n",
       "      <td>21907200</td>\n",
       "    </tr>\n",
       "    <tr>\n",
       "      <th>6</th>\n",
       "      <td>04/14/2022</td>\n",
       "      <td>288.089996</td>\n",
       "      <td>288.309998</td>\n",
       "      <td>279.320007</td>\n",
       "      <td>279.829987</td>\n",
       "      <td>279.829987</td>\n",
       "      <td>28221600</td>\n",
       "    </tr>\n",
       "    <tr>\n",
       "      <th>7</th>\n",
       "      <td>04/18/2022</td>\n",
       "      <td>278.910004</td>\n",
       "      <td>282.459991</td>\n",
       "      <td>278.339996</td>\n",
       "      <td>280.519989</td>\n",
       "      <td>280.519989</td>\n",
       "      <td>20778000</td>\n",
       "    </tr>\n",
       "    <tr>\n",
       "      <th>8</th>\n",
       "      <td>04/19/2022</td>\n",
       "      <td>279.380005</td>\n",
       "      <td>286.170013</td>\n",
       "      <td>278.410004</td>\n",
       "      <td>285.299988</td>\n",
       "      <td>285.299988</td>\n",
       "      <td>22297700</td>\n",
       "    </tr>\n",
       "    <tr>\n",
       "      <th>9</th>\n",
       "      <td>04/20/2022</td>\n",
       "      <td>289.399994</td>\n",
       "      <td>289.700012</td>\n",
       "      <td>285.369995</td>\n",
       "      <td>286.359985</td>\n",
       "      <td>286.359985</td>\n",
       "      <td>22906700</td>\n",
       "    </tr>\n",
       "    <tr>\n",
       "      <th>10</th>\n",
       "      <td>04/21/2022</td>\n",
       "      <td>288.579987</td>\n",
       "      <td>293.299988</td>\n",
       "      <td>280.059998</td>\n",
       "      <td>280.809998</td>\n",
       "      <td>280.809998</td>\n",
       "      <td>29454600</td>\n",
       "    </tr>\n",
       "  </tbody>\n",
       "</table>\n",
       "</div>"
      ],
      "text/plain": [
       "           Date        Open        High         Low       Close   Adj Close  \\\n",
       "0    04/06/2022  305.190002  307.000000  296.709991  299.500000  299.500000   \n",
       "1    04/07/2022  296.660004  303.649994  296.350006  301.369995  301.369995   \n",
       "2    04/08/2022  300.440002  301.119995  296.279999  296.970001  296.970001   \n",
       "3    04/11/2022  291.790009  292.609985  285.000000  285.260010  285.260010   \n",
       "4    04/12/2022  289.239990  290.739990  280.489990  282.059998  282.059998   \n",
       "5    04/13/2022  282.730011  288.579987  281.299988  287.619995  287.619995   \n",
       "6    04/14/2022  288.089996  288.309998  279.320007  279.829987  279.829987   \n",
       "7    04/18/2022  278.910004  282.459991  278.339996  280.519989  280.519989   \n",
       "8    04/19/2022  279.380005  286.170013  278.410004  285.299988  285.299988   \n",
       "9    04/20/2022  289.399994  289.700012  285.369995  286.359985  286.359985   \n",
       "10   04/21/2022  288.579987  293.299988  280.059998  280.809998  280.809998   \n",
       "\n",
       "      Volume  \n",
       "0   40110400  \n",
       "1   31411200  \n",
       "2   24361900  \n",
       "3   34569300  \n",
       "4   30966700  \n",
       "5   21907200  \n",
       "6   28221600  \n",
       "7   20778000  \n",
       "8   22297700  \n",
       "9   22906700  \n",
       "10  29454600  "
      ]
     },
     "execution_count": 3,
     "metadata": {},
     "output_type": "execute_result"
    }
   ],
   "source": [
    "#Create a new dataframe for train set\n",
    "dftrain = df.head(len(df)-6)\n",
    "dftrain"
   ]
  },
  {
   "cell_type": "code",
   "execution_count": 4,
   "id": "50511396",
   "metadata": {},
   "outputs": [],
   "source": [
    "#Create empty lists to store the independent and dependent data\n",
    "days = list()\n",
    "adj_close_prices = list()"
   ]
  },
  {
   "cell_type": "code",
   "execution_count": 5,
   "id": "8329f9c6",
   "metadata": {},
   "outputs": [],
   "source": [
    "#Get the dates and lists to store independent and dependent data\n",
    "dftrain_days = dftrain.loc[:, 'Date']\n",
    "dftrain_adj_price = dftrain.loc[:, 'Adj Close']"
   ]
  },
  {
   "cell_type": "code",
   "execution_count": 6,
   "id": "5aad9f11",
   "metadata": {},
   "outputs": [],
   "source": [
    "#Create the independent data set\n",
    "for day in dftrain_days:\n",
    "    days.append( [int(day.split('/')[1])])\n",
    "    \n",
    "#Create the dependent data set\n",
    "for adj_close_price in dftrain_adj_price:\n",
    "    adj_close_prices.append(float(adj_close_price))"
   ]
  },
  {
   "cell_type": "code",
   "execution_count": 7,
   "id": "0c731a61",
   "metadata": {},
   "outputs": [
    {
     "data": {
      "text/plain": [
       "[[6], [7], [8], [11], [12], [13], [14], [18], [19], [20], [21]]"
      ]
     },
     "execution_count": 7,
     "metadata": {},
     "output_type": "execute_result"
    }
   ],
   "source": [
    "days"
   ]
  },
  {
   "cell_type": "code",
   "execution_count": 8,
   "id": "13213fce",
   "metadata": {},
   "outputs": [
    {
     "data": {
      "text/plain": [
       "[299.5,\n",
       " 301.369995,\n",
       " 296.970001,\n",
       " 285.26001,\n",
       " 282.059998,\n",
       " 287.619995,\n",
       " 279.829987,\n",
       " 280.519989,\n",
       " 285.299988,\n",
       " 286.359985,\n",
       " 280.809998]"
      ]
     },
     "execution_count": 8,
     "metadata": {},
     "output_type": "execute_result"
    }
   ],
   "source": [
    "adj_close_prices"
   ]
  },
  {
   "cell_type": "markdown",
   "id": "d2d586a8",
   "metadata": {},
   "source": [
    "#### Test set"
   ]
  },
  {
   "cell_type": "code",
   "execution_count": 9,
   "id": "337da449",
   "metadata": {},
   "outputs": [
    {
     "data": {
      "text/html": [
       "<div>\n",
       "<style scoped>\n",
       "    .dataframe tbody tr th:only-of-type {\n",
       "        vertical-align: middle;\n",
       "    }\n",
       "\n",
       "    .dataframe tbody tr th {\n",
       "        vertical-align: top;\n",
       "    }\n",
       "\n",
       "    .dataframe thead th {\n",
       "        text-align: right;\n",
       "    }\n",
       "</style>\n",
       "<table border=\"1\" class=\"dataframe\">\n",
       "  <thead>\n",
       "    <tr style=\"text-align: right;\">\n",
       "      <th></th>\n",
       "      <th>Date</th>\n",
       "      <th>Open</th>\n",
       "      <th>High</th>\n",
       "      <th>Low</th>\n",
       "      <th>Close</th>\n",
       "      <th>Adj Close</th>\n",
       "      <th>Volume</th>\n",
       "    </tr>\n",
       "  </thead>\n",
       "  <tbody>\n",
       "    <tr>\n",
       "      <th>11</th>\n",
       "      <td>04/22/2022</td>\n",
       "      <td>281.679993</td>\n",
       "      <td>283.200012</td>\n",
       "      <td>273.380005</td>\n",
       "      <td>274.029999</td>\n",
       "      <td>274.029999</td>\n",
       "      <td>29405800</td>\n",
       "    </tr>\n",
       "    <tr>\n",
       "      <th>12</th>\n",
       "      <td>04/25/2022</td>\n",
       "      <td>273.290009</td>\n",
       "      <td>281.109985</td>\n",
       "      <td>270.769989</td>\n",
       "      <td>280.720001</td>\n",
       "      <td>280.720001</td>\n",
       "      <td>35678900</td>\n",
       "    </tr>\n",
       "    <tr>\n",
       "      <th>13</th>\n",
       "      <td>04/26/2022</td>\n",
       "      <td>277.500000</td>\n",
       "      <td>278.359985</td>\n",
       "      <td>270.000000</td>\n",
       "      <td>270.220001</td>\n",
       "      <td>270.220001</td>\n",
       "      <td>46518400</td>\n",
       "    </tr>\n",
       "    <tr>\n",
       "      <th>14</th>\n",
       "      <td>04/27/2022</td>\n",
       "      <td>282.100006</td>\n",
       "      <td>290.970001</td>\n",
       "      <td>279.160004</td>\n",
       "      <td>283.220001</td>\n",
       "      <td>283.220001</td>\n",
       "      <td>63477700</td>\n",
       "    </tr>\n",
       "    <tr>\n",
       "      <th>15</th>\n",
       "      <td>04/28/2022</td>\n",
       "      <td>285.190002</td>\n",
       "      <td>290.980011</td>\n",
       "      <td>281.459991</td>\n",
       "      <td>289.630005</td>\n",
       "      <td>289.630005</td>\n",
       "      <td>33646600</td>\n",
       "    </tr>\n",
       "    <tr>\n",
       "      <th>16</th>\n",
       "      <td>04/29/2022</td>\n",
       "      <td>288.609985</td>\n",
       "      <td>289.880005</td>\n",
       "      <td>276.500000</td>\n",
       "      <td>277.519989</td>\n",
       "      <td>277.519989</td>\n",
       "      <td>37025000</td>\n",
       "    </tr>\n",
       "  </tbody>\n",
       "</table>\n",
       "</div>"
      ],
      "text/plain": [
       "           Date        Open        High         Low       Close   Adj Close  \\\n",
       "11   04/22/2022  281.679993  283.200012  273.380005  274.029999  274.029999   \n",
       "12   04/25/2022  273.290009  281.109985  270.769989  280.720001  280.720001   \n",
       "13   04/26/2022  277.500000  278.359985  270.000000  270.220001  270.220001   \n",
       "14   04/27/2022  282.100006  290.970001  279.160004  283.220001  283.220001   \n",
       "15   04/28/2022  285.190002  290.980011  281.459991  289.630005  289.630005   \n",
       "16   04/29/2022  288.609985  289.880005  276.500000  277.519989  277.519989   \n",
       "\n",
       "      Volume  \n",
       "11  29405800  \n",
       "12  35678900  \n",
       "13  46518400  \n",
       "14  63477700  \n",
       "15  33646600  \n",
       "16  37025000  "
      ]
     },
     "execution_count": 9,
     "metadata": {},
     "output_type": "execute_result"
    }
   ],
   "source": [
    "#Get test data\n",
    "dftest = df.tail(6)\n",
    "dftest"
   ]
  },
  {
   "cell_type": "code",
   "execution_count": 10,
   "id": "68180683",
   "metadata": {},
   "outputs": [],
   "source": [
    "#Create empty lists to store the independent and dependent data\n",
    "test_days = list()\n",
    "test_close_prices = list()"
   ]
  },
  {
   "cell_type": "code",
   "execution_count": 11,
   "id": "a950ea67",
   "metadata": {},
   "outputs": [],
   "source": [
    "#Get the dates and lists to store independent and dependent data\n",
    "dftest_days = dftest.loc[:, 'Date']\n",
    "dftest_adj_price = dftest.loc[:, 'Adj Close']"
   ]
  },
  {
   "cell_type": "code",
   "execution_count": 12,
   "id": "51adb00b",
   "metadata": {},
   "outputs": [],
   "source": [
    "#Create the independent data set\n",
    "for test_day in dftest_days:\n",
    "    test_days.append( [int(test_day.split('/')[1])])\n",
    "    \n",
    "#Create the dependent data set\n",
    "for test_close_price in dftest_adj_price:\n",
    "    test_close_prices.append(float(test_close_price))"
   ]
  },
  {
   "cell_type": "code",
   "execution_count": 13,
   "id": "4caded3b",
   "metadata": {},
   "outputs": [
    {
     "data": {
      "text/plain": [
       "11     04/22/2022\n",
       "12     04/25/2022\n",
       "13     04/26/2022\n",
       "14     04/27/2022\n",
       "15     04/28/2022\n",
       "16     04/29/2022\n",
       "Name: Date, dtype: object"
      ]
     },
     "execution_count": 13,
     "metadata": {},
     "output_type": "execute_result"
    }
   ],
   "source": [
    "dftest_days"
   ]
  },
  {
   "cell_type": "code",
   "execution_count": 14,
   "id": "19c9537a",
   "metadata": {},
   "outputs": [
    {
     "data": {
      "text/plain": [
       "11    274.029999\n",
       "12    280.720001\n",
       "13    270.220001\n",
       "14    283.220001\n",
       "15    289.630005\n",
       "16    277.519989\n",
       "Name: Adj Close, dtype: float64"
      ]
     },
     "execution_count": 14,
     "metadata": {},
     "output_type": "execute_result"
    }
   ],
   "source": [
    "dftest_adj_price"
   ]
  },
  {
   "cell_type": "markdown",
   "id": "45a59b73",
   "metadata": {},
   "source": [
    "### 2. Train the model"
   ]
  },
  {
   "cell_type": "code",
   "execution_count": 15,
   "id": "4f6d5576",
   "metadata": {},
   "outputs": [
    {
     "data": {
      "text/html": [
       "<style>#sk-container-id-1 {color: black;background-color: white;}#sk-container-id-1 pre{padding: 0;}#sk-container-id-1 div.sk-toggleable {background-color: white;}#sk-container-id-1 label.sk-toggleable__label {cursor: pointer;display: block;width: 100%;margin-bottom: 0;padding: 0.3em;box-sizing: border-box;text-align: center;}#sk-container-id-1 label.sk-toggleable__label-arrow:before {content: \"▸\";float: left;margin-right: 0.25em;color: #696969;}#sk-container-id-1 label.sk-toggleable__label-arrow:hover:before {color: black;}#sk-container-id-1 div.sk-estimator:hover label.sk-toggleable__label-arrow:before {color: black;}#sk-container-id-1 div.sk-toggleable__content {max-height: 0;max-width: 0;overflow: hidden;text-align: left;background-color: #f0f8ff;}#sk-container-id-1 div.sk-toggleable__content pre {margin: 0.2em;color: black;border-radius: 0.25em;background-color: #f0f8ff;}#sk-container-id-1 input.sk-toggleable__control:checked~div.sk-toggleable__content {max-height: 200px;max-width: 100%;overflow: auto;}#sk-container-id-1 input.sk-toggleable__control:checked~label.sk-toggleable__label-arrow:before {content: \"▾\";}#sk-container-id-1 div.sk-estimator input.sk-toggleable__control:checked~label.sk-toggleable__label {background-color: #d4ebff;}#sk-container-id-1 div.sk-label input.sk-toggleable__control:checked~label.sk-toggleable__label {background-color: #d4ebff;}#sk-container-id-1 input.sk-hidden--visually {border: 0;clip: rect(1px 1px 1px 1px);clip: rect(1px, 1px, 1px, 1px);height: 1px;margin: -1px;overflow: hidden;padding: 0;position: absolute;width: 1px;}#sk-container-id-1 div.sk-estimator {font-family: monospace;background-color: #f0f8ff;border: 1px dotted black;border-radius: 0.25em;box-sizing: border-box;margin-bottom: 0.5em;}#sk-container-id-1 div.sk-estimator:hover {background-color: #d4ebff;}#sk-container-id-1 div.sk-parallel-item::after {content: \"\";width: 100%;border-bottom: 1px solid gray;flex-grow: 1;}#sk-container-id-1 div.sk-label:hover label.sk-toggleable__label {background-color: #d4ebff;}#sk-container-id-1 div.sk-serial::before {content: \"\";position: absolute;border-left: 1px solid gray;box-sizing: border-box;top: 0;bottom: 0;left: 50%;z-index: 0;}#sk-container-id-1 div.sk-serial {display: flex;flex-direction: column;align-items: center;background-color: white;padding-right: 0.2em;padding-left: 0.2em;position: relative;}#sk-container-id-1 div.sk-item {position: relative;z-index: 1;}#sk-container-id-1 div.sk-parallel {display: flex;align-items: stretch;justify-content: center;background-color: white;position: relative;}#sk-container-id-1 div.sk-item::before, #sk-container-id-1 div.sk-parallel-item::before {content: \"\";position: absolute;border-left: 1px solid gray;box-sizing: border-box;top: 0;bottom: 0;left: 50%;z-index: -1;}#sk-container-id-1 div.sk-parallel-item {display: flex;flex-direction: column;z-index: 1;position: relative;background-color: white;}#sk-container-id-1 div.sk-parallel-item:first-child::after {align-self: flex-end;width: 50%;}#sk-container-id-1 div.sk-parallel-item:last-child::after {align-self: flex-start;width: 50%;}#sk-container-id-1 div.sk-parallel-item:only-child::after {width: 0;}#sk-container-id-1 div.sk-dashed-wrapped {border: 1px dashed gray;margin: 0 0.4em 0.5em 0.4em;box-sizing: border-box;padding-bottom: 0.4em;background-color: white;}#sk-container-id-1 div.sk-label label {font-family: monospace;font-weight: bold;display: inline-block;line-height: 1.2em;}#sk-container-id-1 div.sk-label-container {text-align: center;}#sk-container-id-1 div.sk-container {/* jupyter's `normalize.less` sets `[hidden] { display: none; }` but bootstrap.min.css set `[hidden] { display: none !important; }` so we also need the `!important` here to be able to override the default hidden behavior on the sphinx rendered scikit-learn.org. See: https://github.com/scikit-learn/scikit-learn/issues/21755 */display: inline-block !important;position: relative;}#sk-container-id-1 div.sk-text-repr-fallback {display: none;}</style><div id=\"sk-container-id-1\" class=\"sk-top-container\"><div class=\"sk-text-repr-fallback\"><pre>SVR(C=1000.0, gamma=0.15)</pre><b>In a Jupyter environment, please rerun this cell to show the HTML representation or trust the notebook. <br />On GitHub, the HTML representation is unable to render, please try loading this page with nbviewer.org.</b></div><div class=\"sk-container\" hidden><div class=\"sk-item\"><div class=\"sk-estimator sk-toggleable\"><input class=\"sk-toggleable__control sk-hidden--visually\" id=\"sk-estimator-id-1\" type=\"checkbox\" checked><label for=\"sk-estimator-id-1\" class=\"sk-toggleable__label sk-toggleable__label-arrow\">SVR</label><div class=\"sk-toggleable__content\"><pre>SVR(C=1000.0, gamma=0.15)</pre></div></div></div></div></div>"
      ],
      "text/plain": [
       "SVR(C=1000.0, gamma=0.15)"
      ]
     },
     "execution_count": 15,
     "metadata": {},
     "output_type": "execute_result"
    }
   ],
   "source": [
    "#Create Support Vector Regression Models\n",
    "#Create and train a SVR model using a rbf kernel\n",
    "rbf_svr = SVR(kernel='rbf', C=1000.0, gamma=0.15)\n",
    "rbf_svr.fit(days, adj_close_prices)"
   ]
  },
  {
   "cell_type": "markdown",
   "id": "d9329b94",
   "metadata": {},
   "source": [
    "### 3. Test the model"
   ]
  },
  {
   "cell_type": "code",
   "execution_count": 16,
   "id": "4246783c",
   "metadata": {},
   "outputs": [],
   "source": [
    "pr_rbf = rbf_svr.predict(test_days)"
   ]
  },
  {
   "cell_type": "code",
   "execution_count": 17,
   "id": "1b67d822",
   "metadata": {},
   "outputs": [
    {
     "data": {
      "image/png": "[encoded data removed]",
      "text/plain": [
       "<Figure size 1152x576 with 1 Axes>"
      ]
     },
     "metadata": {},
     "output_type": "display_data"
    }
   ],
   "source": [
    "#plot the models ona graph to see which has the best fit to the original data\n",
    "plt.figure(figsize=(16,8))\n",
    "plt.scatter(test_days, test_close_prices, color='red', label='Data')\n",
    "plt.plot(test_days, pr_rbf, color='green', label='RBF Model')\n",
    "plt.legend()\n",
    "plt.show()"
   ]
  },
  {
   "cell_type": "code",
   "execution_count": 18,
   "id": "3fa1679d",
   "metadata": {},
   "outputs": [
    {
     "data": {
      "image/png": "[encoded data removed]",
      "text/plain": [
       "<Figure size 1152x576 with 1 Axes>"
      ]
     },
     "metadata": {},
     "output_type": "display_data"
    }
   ],
   "source": [
    "#plot the models ona graph to see which has the best fit to the original data\n",
    "plt.figure(figsize=(16,8))\n",
    "plt.scatter(days, adj_close_prices, color='red', label='Data')\n",
    "plt.plot(days, rbf_svr.predict(days), color='green', label='RBF Model')\n",
    "plt.legend()\n",
    "plt.show()"
   ]
  },
  {
   "cell_type": "markdown",
   "id": "cdeab207",
   "metadata": {},
   "source": [
    "### 4. Prediction accuracy"
   ]
  },
  {
   "cell_type": "code",
   "execution_count": 28,
   "id": "ae9de9d8",
   "metadata": {},
   "outputs": [],
   "source": [
    "from sklearn.metrics import mean_squared_error as mse\n",
    "from sklearn.metrics import r2_score"
   ]
  },
  {
   "cell_type": "code",
   "execution_count": 29,
   "id": "3f3ec672",
   "metadata": {},
   "outputs": [],
   "source": [
    "#calculate scores for model evaluation\n",
    "scores = f'''\n",
    "{'Metric'.ljust(10)}{'Train'.center(20)}{'Test'.center(20)}\n",
    "{'r2_score'.ljust(10)}{r2_score(adj_close_prices, rbf_svr.predict(days))}\\t{r2_score(test_close_prices, rbf_svr.predict(test_days))}\n",
    "{'MSE'.ljust(10)}{mse(adj_close_prices, rbf_svr.predict(days))}\\t{mse(test_close_prices, rbf_svr.predict(test_days))}\n",
    "'''"
   ]
  },
  {
   "cell_type": "code",
   "execution_count": 30,
   "id": "f5a2510e",
   "metadata": {},
   "outputs": [
    {
     "name": "stdout",
     "output_type": "stream",
     "text": [
      "\n",
      "Metric           Train                Test        \n",
      "r2_score  0.9998216491846591\t0.15544906229264088\n",
      "MSE       0.010024209470213928\t33.422297973493876\n",
      "\n"
     ]
    }
   ],
   "source": [
    "print(scores)"
   ]
  }
 ],
 "metadata": {
  "kernelspec": {
   "display_name": "Python 3 (ipykernel)",
   "language": "python",
   "name": "python3"
  },
  "language_info": {
   "codemirror_mode": {
    "name": "ipython",
    "version": 3
   },
   "file_extension": ".py",
   "mimetype": "text/x-python",
   "name": "python",
   "nbconvert_exporter": "python",
   "pygments_lexer": "ipython3",
   "version": "3.9.7"
  }
 },
 "nbformat": 4,
 "nbformat_minor": 5
}
